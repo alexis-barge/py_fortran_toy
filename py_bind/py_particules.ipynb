{
 "cells": [
  {
   "cell_type": "markdown",
   "id": "81bba9be-39de-45a2-acea-1a5018f2f137",
   "metadata": {},
   "source": [
    "# Py_particules demonstrator"
   ]
  },
  {
   "cell_type": "code",
   "execution_count": 1,
   "id": "118aed73-da60-4188-a90d-97f6f565d4a6",
   "metadata": {},
   "outputs": [],
   "source": [
    "import sys\n",
    "import os\n",
    "import numpy as np\n",
    "\n",
    "module_dir = os.path.abspath(os.path.join(os.path.dirname(__name__), \"../build/lib\"))\n",
    "sys.path.insert(0, module_dir)\n",
    "\n",
    "from py_src.solver import Solver"
   ]
  },
  {
   "cell_type": "markdown",
   "id": "56a88ac5-950a-4158-a70f-362e4d1ed68d",
   "metadata": {},
   "source": [
    "### Initialize particle solver with particles list 1 containing 5 particles"
   ]
  },
  {
   "cell_type": "code",
   "execution_count": 2,
   "id": "008fa262-b0b3-42ca-9850-c938cc8cd31c",
   "metadata": {},
   "outputs": [
    {
     "name": "stdout",
     "output_type": "stream",
     "text": [
      "Solver NEMO created with method euler\n"
     ]
    }
   ],
   "source": [
    "nemo = Solver(\"NEMO\",\"euler\",1,5)"
   ]
  },
  {
   "cell_type": "code",
   "execution_count": 3,
   "id": "3e8f0b64-373d-41ba-969e-e6f2c83668ed",
   "metadata": {},
   "outputs": [
    {
     "name": "stdout",
     "output_type": "stream",
     "text": [
      "Current iteration: 0 and simulation time: 0.0\n"
     ]
    }
   ],
   "source": [
    "print(nemo)"
   ]
  },
  {
   "cell_type": "markdown",
   "id": "727edabc-f5a5-44fe-841b-f2f5b13f8897",
   "metadata": {},
   "source": [
    "#### Advance 5 iterations in time with dt=0.1"
   ]
  },
  {
   "cell_type": "code",
   "execution_count": 4,
   "id": "a0ce323d-43a0-40b1-9100-1daf56701f6a",
   "metadata": {},
   "outputs": [
    {
     "name": "stdout",
     "output_type": "stream",
     "text": [
      "Advancement reached iteration: 5 and Total simulation time: 0.5\n"
     ]
    }
   ],
   "source": [
    "nemo.advance(5,0.1)"
   ]
  },
  {
   "cell_type": "markdown",
   "id": "b9efb253-90b0-4287-bff0-10f32cfd855f",
   "metadata": {},
   "source": [
    "#### Advance 3 iterations with dt=0.5"
   ]
  },
  {
   "cell_type": "code",
   "execution_count": 5,
   "id": "05b04722-e8b7-4308-a0cc-047430dd3dc8",
   "metadata": {},
   "outputs": [
    {
     "name": "stdout",
     "output_type": "stream",
     "text": [
      "Advancement reached iteration: 8 and Total simulation time: 2.0\n"
     ]
    }
   ],
   "source": [
    "nemo.advance(3,0.5)"
   ]
  },
  {
   "cell_type": "markdown",
   "id": "3873bb10-3c8b-4aee-a04e-7ab39023a3af",
   "metadata": {},
   "source": [
    "#### Show current values"
   ]
  },
  {
   "cell_type": "code",
   "execution_count": 6,
   "id": "0f871dda-e9d5-40c5-b283-3b7f8a4b5f56",
   "metadata": {},
   "outputs": [
    {
     "name": "stdout",
     "output_type": "stream",
     "text": [
      "Get particles values at  Current iteration: 8 and simulation time: 2.0 \n",
      "\n",
      "[1 2 3 4 5]\n",
      " --- \n",
      "[ 4.291052   -3.5042272  -4.2177386   0.45768696  1.4923651  -0.8106724\n",
      " -4.851965    1.667918    2.0754068  -4.315059    3.0380096  -3.2782483\n",
      "  2.7240586   0.81905437  4.149972  ]\n",
      " --- \n",
      "[-0.9543897   0.15168834  0.8202374  -0.2904042  -0.9870573  -0.12237525\n",
      "  0.43249285  0.13865912 -0.9499291  -0.562626   -0.9939077   0.9364946\n",
      "  0.55727696  0.2724806  -0.21392417]\n"
     ]
    }
   ],
   "source": [
    "ids, pos, vels = nemo.get()\n",
    "\n",
    "print(ids)\n",
    "print(' --- ')\n",
    "print(pos)\n",
    "print(' --- ')\n",
    "print(vels)"
   ]
  },
  {
   "cell_type": "markdown",
   "id": "6ee9bdd3-143a-4cc9-b366-1ed2976611f2",
   "metadata": {},
   "source": [
    "#### Write results -- show content of written file"
   ]
  },
  {
   "cell_type": "code",
   "execution_count": 7,
   "id": "7d25bfb3-ee8a-4758-9ca9-a9aa66295346",
   "metadata": {},
   "outputs": [
    {
     "name": "stdout",
     "output_type": "stream",
     "text": [
      " Write results in Part_008.dat\n",
      "  1   0.4291052E+01 -0.3504227E+01 -0.4217739E+01 -0.9543897E+00  0.1516883E+00  0.8202374E+00                                                                                                         \n",
      "  2   0.4576870E+00  0.1492365E+01 -0.8106724E+00 -0.2904042E+00 -0.9870573E+00 -0.1223752E+00                                                                                                         \n",
      "  3  -0.4851965E+01  0.1667918E+01  0.2075407E+01  0.4324929E+00  0.1386591E+00 -0.9499291E+00                                                                                                         \n",
      "  4  -0.4315059E+01  0.3038010E+01 -0.3278248E+01 -0.5626260E+00 -0.9939077E+00  0.9364946E+00                                                                                                         \n",
      "  5   0.2724059E+01  0.8190544E+00  0.4149972E+01  0.5572770E+00  0.2724806E+00 -0.2139242E+00                                                                                                         \n"
     ]
    }
   ],
   "source": [
    "nemo.write()\n",
    "!cat Part_008.dat"
   ]
  },
  {
   "cell_type": "markdown",
   "id": "5599f26d-9f0b-4c2b-95e9-50e697b1a895",
   "metadata": {},
   "source": [
    "#### Advance again a bit and show modifications of values"
   ]
  },
  {
   "cell_type": "code",
   "execution_count": 8,
   "id": "f9de3d1a-77e4-4c3c-8cb6-d4a2195ea152",
   "metadata": {},
   "outputs": [
    {
     "name": "stdout",
     "output_type": "stream",
     "text": [
      "Advancement reached iteration: 10 and Total simulation time: 3.0\n",
      "Get particles values at  Current iteration: 10 and simulation time: 3.0 \n",
      "\n"
     ]
    },
    {
     "data": {
      "text/plain": [
       "(array([1, 2, 3, 4, 5], dtype=int32),\n",
       " array([ 3.3366623 , -3.3525386 , -3.3975015 ,  0.16728276,  0.5053078 ,\n",
       "        -0.93304765, -4.4194717 ,  1.806577  ,  1.1254776 , -4.877685  ,\n",
       "         2.0441017 , -2.3417535 ,  3.2813354 ,  1.091535  ,  3.9360476 ],\n",
       "       dtype=float32),\n",
       " array([-0.9543897 ,  0.15168834,  0.8202374 , -0.2904042 , -0.9870573 ,\n",
       "        -0.12237525,  0.43249285,  0.13865912, -0.9499291 , -0.562626  ,\n",
       "        -0.9939077 ,  0.9364946 ,  0.55727696,  0.2724806 , -0.21392417],\n",
       "       dtype=float32))"
      ]
     },
     "execution_count": 8,
     "metadata": {},
     "output_type": "execute_result"
    }
   ],
   "source": [
    "nemo.advance(2,0.5)\n",
    "nemo.get()"
   ]
  },
  {
   "cell_type": "markdown",
   "id": "aa6e9f8f-89b6-4b58-ac83-cfcb1a04ec8d",
   "metadata": {},
   "source": [
    "#### Impose new values -- show changes"
   ]
  },
  {
   "cell_type": "code",
   "execution_count": 9,
   "id": "361b770a-3318-4905-8354-ee9843cbc97d",
   "metadata": {},
   "outputs": [
    {
     "name": "stdout",
     "output_type": "stream",
     "text": [
      "\n",
      "Imposing values at  Current iteration: 10 and simulation time: 3.0 \n",
      "\n"
     ]
    }
   ],
   "source": [
    "ids = np.array([2,4,5])\n",
    "poss = np.array([5.0,4.0,3.0,1.0,1.0,1.0,-5.0,-4.0,-3.0])\n",
    "vels = np.array([-0.1,0.2,-0.3,0.8,0.8,0.8,0.5,0.5,0.5])\n",
    "nemo.set(ids,poss,vels)"
   ]
  },
  {
   "cell_type": "code",
   "execution_count": 10,
   "id": "808c56c2-d9ac-49d8-b3e5-b5d45e8fc0bc",
   "metadata": {},
   "outputs": [
    {
     "name": "stdout",
     "output_type": "stream",
     "text": [
      "Get particles values at  Current iteration: 10 and simulation time: 3.0 \n",
      "\n"
     ]
    },
    {
     "data": {
      "text/plain": [
       "(array([1, 2, 3, 4, 5], dtype=int32),\n",
       " array([ 3.3366623, -3.3525386, -3.3975015,  5.       ,  4.       ,\n",
       "         3.       , -4.4194717,  1.806577 ,  1.1254776,  1.       ,\n",
       "         1.       ,  1.       , -5.       , -4.       , -3.       ],\n",
       "       dtype=float32),\n",
       " array([-0.9543897 ,  0.15168834,  0.8202374 , -0.1       ,  0.2       ,\n",
       "        -0.3       ,  0.43249285,  0.13865912, -0.9499291 ,  0.8       ,\n",
       "         0.8       ,  0.8       ,  0.5       ,  0.5       ,  0.5       ],\n",
       "       dtype=float32))"
      ]
     },
     "execution_count": 10,
     "metadata": {},
     "output_type": "execute_result"
    }
   ],
   "source": [
    "nemo.get()"
   ]
  },
  {
   "cell_type": "code",
   "execution_count": 11,
   "id": "59c99926-f14b-439e-9069-797fad42eccb",
   "metadata": {},
   "outputs": [
    {
     "name": "stdout",
     "output_type": "stream",
     "text": [
      " Particle list deallocated\n"
     ]
    }
   ],
   "source": [
    "# free memory\n",
    "del nemo\n",
    "!rm Part*"
   ]
  }
 ],
 "metadata": {
  "kernelspec": {
   "display_name": "Python 3 (ipykernel)",
   "language": "python",
   "name": "python3"
  },
  "language_info": {
   "codemirror_mode": {
    "name": "ipython",
    "version": 3
   },
   "file_extension": ".py",
   "mimetype": "text/x-python",
   "name": "python",
   "nbconvert_exporter": "python",
   "pygments_lexer": "ipython3",
   "version": "3.11.2"
  }
 },
 "nbformat": 4,
 "nbformat_minor": 5
}
